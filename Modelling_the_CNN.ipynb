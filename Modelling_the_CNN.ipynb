{
 "cells": [
  {
   "cell_type": "code",
   "execution_count": 23,
   "metadata": {},
   "outputs": [],
   "source": [
    "from keras.models import Sequential\n",
    "from keras.layers import Convolution2D,MaxPooling2D,Dense,Activation,Flatten,Dropout\n",
    "from keras.callbacks import ModelCheckpoint\n",
    "import numpy as np\n",
    "from sklearn.model_selection import train_test_split\n",
    "import matplotlib.pyplot as plt"
   ]
  },
  {
   "cell_type": "code",
   "execution_count": 14,
   "metadata": {},
   "outputs": [],
   "source": [
    "X=np.load('data.npy')\n",
    "Y=np.load('target.npy')"
   ]
  },
  {
   "cell_type": "code",
   "execution_count": 15,
   "metadata": {},
   "outputs": [
    {
     "name": "stdout",
     "output_type": "stream",
     "text": [
      "(1376, 100, 100, 1) (1376, 2)\n"
     ]
    }
   ],
   "source": [
    "print(X.shape,Y.shape)"
   ]
  },
  {
   "cell_type": "code",
   "execution_count": 18,
   "metadata": {},
   "outputs": [
    {
     "name": "stdout",
     "output_type": "stream",
     "text": [
      "Model: \"sequential_5\"\n",
      "_________________________________________________________________\n",
      "Layer (type)                 Output Shape              Param #   \n",
      "=================================================================\n",
      "conv2d_7 (Conv2D)            (None, 98, 98, 32)        320       \n",
      "_________________________________________________________________\n",
      "conv2d_8 (Conv2D)            (None, 96, 96, 64)        18496     \n",
      "_________________________________________________________________\n",
      "max_pooling2d_2 (MaxPooling2 (None, 48, 48, 64)        0         \n",
      "_________________________________________________________________\n",
      "dropout_1 (Dropout)          (None, 48, 48, 64)        0         \n",
      "_________________________________________________________________\n",
      "conv2d_9 (Conv2D)            (None, 44, 44, 32)        51232     \n",
      "_________________________________________________________________\n",
      "max_pooling2d_3 (MaxPooling2 (None, 22, 22, 32)        0         \n",
      "_________________________________________________________________\n",
      "flatten_1 (Flatten)          (None, 15488)             0         \n",
      "_________________________________________________________________\n",
      "dense_2 (Dense)              (None, 64)                991296    \n",
      "_________________________________________________________________\n",
      "dense_3 (Dense)              (None, 2)                 130       \n",
      "=================================================================\n",
      "Total params: 1,061,474\n",
      "Trainable params: 1,061,474\n",
      "Non-trainable params: 0\n",
      "_________________________________________________________________\n"
     ]
    }
   ],
   "source": [
    "model=Sequential()\n",
    "\n",
    "model.add(Convolution2D(32,(3,3),activation='relu',input_shape=(100,100,1)))\n",
    "model.add(Convolution2D(64,(3,3),activation='relu'))\n",
    "model.add(MaxPooling2D(2,2))\n",
    "model.add(Dropout(0.3))\n",
    "\n",
    "model.add(Convolution2D(32,(5,5),activation='relu'))\n",
    "model.add(MaxPooling2D(2,2))\n",
    "\n",
    "model.add(Flatten())\n",
    "model.add(Dense(64,activation='relu'))\n",
    "model.add(Dense(2,activation='softmax'))\n",
    "\n",
    "model.summary()"
   ]
  },
  {
   "cell_type": "code",
   "execution_count": 19,
   "metadata": {},
   "outputs": [],
   "source": [
    "model.compile(loss='categorical_crossentropy',optimizer='adam',metrics=['accuracy'])"
   ]
  },
  {
   "cell_type": "code",
   "execution_count": 20,
   "metadata": {},
   "outputs": [
    {
     "name": "stdout",
     "output_type": "stream",
     "text": [
      "Training Data-> (1238, 100, 100, 1) (1238, 2)\n",
      "Testing Data-> (138, 100, 100, 1) (138, 2)\n"
     ]
    }
   ],
   "source": [
    "X_train,X_test,Y_train,Y_test=train_test_split(X,Y,test_size=0.1)\n",
    "print(\"Training Data->\",X_train.shape,Y_train.shape)\n",
    "print(\"Testing Data->\",X_test.shape,Y_test.shape)"
   ]
  },
  {
   "cell_type": "code",
   "execution_count": 21,
   "metadata": {},
   "outputs": [
    {
     "name": "stdout",
     "output_type": "stream",
     "text": [
      "Epoch 1/20\n",
      "31/31 [==============================] - ETA: 0s - loss: 0.7248 - accuracy: 0.5212WARNING:tensorflow:From c:\\users\\shivam\\appdata\\local\\programs\\python\\python38\\lib\\site-packages\\tensorflow\\python\\training\\tracking\\tracking.py:111: Model.state_updates (from tensorflow.python.keras.engine.training) is deprecated and will be removed in a future version.\n",
      "Instructions for updating:\n",
      "This property should not be used in TensorFlow 2.0, as updates are applied automatically.\n",
      "WARNING:tensorflow:From c:\\users\\shivam\\appdata\\local\\programs\\python\\python38\\lib\\site-packages\\tensorflow\\python\\training\\tracking\\tracking.py:111: Layer.updates (from tensorflow.python.keras.engine.base_layer) is deprecated and will be removed in a future version.\n",
      "Instructions for updating:\n",
      "This property should not be used in TensorFlow 2.0, as updates are applied automatically.\n",
      "INFO:tensorflow:Assets written to: model-001.model\\assets\n",
      "31/31 [==============================] - 29s 948ms/step - loss: 0.7248 - accuracy: 0.5212 - val_loss: 0.6846 - val_accuracy: 0.5081\n",
      "Epoch 2/20\n",
      "31/31 [==============================] - ETA: 0s - loss: 0.5970 - accuracy: 0.6606INFO:tensorflow:Assets written to: model-002.model\\assets\n",
      "31/31 [==============================] - 29s 945ms/step - loss: 0.5970 - accuracy: 0.6606 - val_loss: 0.4496 - val_accuracy: 0.7863\n",
      "Epoch 3/20\n",
      "31/31 [==============================] - 27s 879ms/step - loss: 0.3832 - accuracy: 0.8455 - val_loss: 0.4719 - val_accuracy: 0.7540\n",
      "Epoch 4/20\n",
      "31/31 [==============================] - ETA: 0s - loss: 0.2872 - accuracy: 0.8909INFO:tensorflow:Assets written to: model-004.model\\assets\n",
      "31/31 [==============================] - 31s 1s/step - loss: 0.2872 - accuracy: 0.8909 - val_loss: 0.2764 - val_accuracy: 0.8911\n",
      "Epoch 5/20\n",
      "31/31 [==============================] - ETA: 0s - loss: 0.1628 - accuracy: 0.9434INFO:tensorflow:Assets written to: model-005.model\\assets\n",
      "31/31 [==============================] - 29s 947ms/step - loss: 0.1628 - accuracy: 0.9434 - val_loss: 0.2583 - val_accuracy: 0.9113\n",
      "Epoch 6/20\n",
      "31/31 [==============================] - ETA: 0s - loss: 0.1162 - accuracy: 0.9586INFO:tensorflow:Assets written to: model-006.model\\assets\n",
      "31/31 [==============================] - 30s 961ms/step - loss: 0.1162 - accuracy: 0.9586 - val_loss: 0.2093 - val_accuracy: 0.9315\n",
      "Epoch 7/20\n",
      "31/31 [==============================] - ETA: 0s - loss: 0.0941 - accuracy: 0.9667INFO:tensorflow:Assets written to: model-007.model\\assets\n",
      "31/31 [==============================] - 30s 954ms/step - loss: 0.0941 - accuracy: 0.9667 - val_loss: 0.1937 - val_accuracy: 0.9234\n",
      "Epoch 8/20\n",
      "31/31 [==============================] - 27s 869ms/step - loss: 0.0631 - accuracy: 0.9788 - val_loss: 0.2200 - val_accuracy: 0.9194\n",
      "Epoch 9/20\n",
      "31/31 [==============================] - 28s 904ms/step - loss: 0.0473 - accuracy: 0.9828 - val_loss: 0.2284 - val_accuracy: 0.9395\n",
      "Epoch 10/20\n",
      "31/31 [==============================] - 27s 882ms/step - loss: 0.0379 - accuracy: 0.9889 - val_loss: 0.1943 - val_accuracy: 0.9355\n",
      "Epoch 11/20\n",
      "31/31 [==============================] - 27s 878ms/step - loss: 0.0272 - accuracy: 0.9939 - val_loss: 0.2430 - val_accuracy: 0.9476\n",
      "Epoch 12/20\n",
      "31/31 [==============================] - 28s 889ms/step - loss: 0.0263 - accuracy: 0.9929 - val_loss: 0.2664 - val_accuracy: 0.9355\n",
      "Epoch 13/20\n",
      "31/31 [==============================] - 28s 888ms/step - loss: 0.0188 - accuracy: 0.9939 - val_loss: 0.2057 - val_accuracy: 0.9516\n",
      "Epoch 14/20\n",
      "31/31 [==============================] - 27s 876ms/step - loss: 0.0261 - accuracy: 0.9909 - val_loss: 0.2361 - val_accuracy: 0.9355\n",
      "Epoch 15/20\n",
      "31/31 [==============================] - 27s 879ms/step - loss: 0.0431 - accuracy: 0.9859 - val_loss: 0.2626 - val_accuracy: 0.9476\n",
      "Epoch 16/20\n",
      "31/31 [==============================] - 27s 879ms/step - loss: 0.0202 - accuracy: 0.9919 - val_loss: 0.2085 - val_accuracy: 0.9556\n",
      "Epoch 17/20\n",
      "31/31 [==============================] - 28s 893ms/step - loss: 0.0148 - accuracy: 0.9949 - val_loss: 0.2690 - val_accuracy: 0.9476\n",
      "Epoch 18/20\n",
      "31/31 [==============================] - 27s 886ms/step - loss: 0.0069 - accuracy: 0.9980 - val_loss: 0.2468 - val_accuracy: 0.9435\n",
      "Epoch 19/20\n",
      "31/31 [==============================] - 28s 890ms/step - loss: 0.0091 - accuracy: 0.9980 - val_loss: 0.2499 - val_accuracy: 0.9476\n",
      "Epoch 20/20\n",
      "31/31 [==============================] - 28s 888ms/step - loss: 0.0074 - accuracy: 0.9980 - val_loss: 0.2503 - val_accuracy: 0.9516\n"
     ]
    }
   ],
   "source": [
    "checkpoint = ModelCheckpoint('model-{epoch:03d}.model',monitor='val_loss',verbose=0,save_best_only=True,mode='auto')\n",
    "history=model.fit(X_train,Y_train,epochs=20,callbacks=[checkpoint],validation_split=0.2)"
   ]
  },
  {
   "cell_type": "code",
   "execution_count": 26,
   "metadata": {},
   "outputs": [
    {
     "data": {
      "image/png": "[encoded data removed]",
      "text/plain": [
       "<Figure size 576x396 with 1 Axes>"
      ]
     },
     "metadata": {},
     "output_type": "display_data"
    }
   ],
   "source": [
    "plt.style.use(\"seaborn\")\n",
    "plt.plot(history.history['loss'],'r',label='training loss')\n",
    "plt.plot(history.history['val_loss'],label='validation loss')\n",
    "plt.xlabel('# epochs')\n",
    "plt.ylabel('LOSS')\n",
    "plt.legend()\n",
    "plt.show()"
   ]
  },
  {
   "cell_type": "code",
   "execution_count": 27,
   "metadata": {},
   "outputs": [
    {
     "data": {
      "image/png": "[encoded data removed]",
      "text/plain": [
       "<Figure size 576x396 with 1 Axes>"
      ]
     },
     "metadata": {},
     "output_type": "display_data"
    }
   ],
   "source": [
    "plt.plot(history.history['accuracy'],'r',label='training accuracy')\n",
    "plt.plot(history.history['val_accuracy'],label='validation accuracy')\n",
    "plt.xlabel('# epochs')\n",
    "plt.ylabel('loss')\n",
    "plt.legend()\n",
    "plt.show()"
   ]
  },
  {
   "cell_type": "code",
   "execution_count": 23,
   "metadata": {},
   "outputs": [
    {
     "name": "stdout",
     "output_type": "stream",
     "text": [
      "138/138 [==============================] - 6s 44ms/step\n",
      "[0.14019694376358952, 0.9637681245803833]\n"
     ]
    }
   ],
   "source": [
    "print(model.evaluate(test_data,test_target))"
   ]
  },
  {
   "cell_type": "code",
   "execution_count": 29,
   "metadata": {},
   "outputs": [
    {
     "name": "stdout",
     "output_type": "stream",
     "text": [
      "5/5 [==============================] - 0s 89ms/step - loss: 0.1549 - accuracy: 0.9638\n"
     ]
    }
   ],
   "source": [
    "results = model.evaluate(X_test,Y_test)"
   ]
  },
  {
   "cell_type": "code",
   "execution_count": 32,
   "metadata": {},
   "outputs": [
    {
     "name": "stdout",
     "output_type": "stream",
     "text": [
      "Final Loss and Accuracy Respectively on test data-> [0.15487971901893616, 0.9637681245803833]\n"
     ]
    }
   ],
   "source": [
    "print(\"Final Loss and Accuracy Respectively on test data->\",results)"
   ]
  },
  {
   "cell_type": "code",
   "execution_count": 33,
   "metadata": {},
   "outputs": [
    {
     "name": "stdout",
     "output_type": "stream",
     "text": [
      "INFO:tensorflow:Assets written to: ./final_model\\assets\n"
     ]
    }
   ],
   "source": [
    "model.save('./final_model')"
   ]
  },
  {
   "cell_type": "code",
   "execution_count": 37,
   "metadata": {},
   "outputs": [],
   "source": [
    "temp = model.predict(X_train[0].reshape((1,100,100,1)))"
   ]
  },
  {
   "cell_type": "code",
   "execution_count": 40,
   "metadata": {},
   "outputs": [
    {
     "name": "stdout",
     "output_type": "stream",
     "text": [
      "[1]\n"
     ]
    }
   ],
   "source": [
    "ans = np.argmax(temp,axis=1)\n",
    "print(ans)"
   ]
  },
  {
   "cell_type": "code",
   "execution_count": 41,
   "metadata": {},
   "outputs": [
    {
     "data": {
      "text/plain": [
       "array([0., 1.])"
      ]
     },
     "execution_count": 41,
     "metadata": {},
     "output_type": "execute_result"
    }
   ],
   "source": [
    "Y_train[0]"
   ]
  },
  {
   "cell_type": "code",
   "execution_count": null,
   "metadata": {},
   "outputs": [],
   "source": []
  }
 ],
 "metadata": {
  "kernelspec": {
   "display_name": "Python 3",
   "language": "python",
   "name": "python3"
  },
  "language_info": {
   "codemirror_mode": {
    "name": "ipython",
    "version": 3
   },
   "file_extension": ".py",
   "mimetype": "text/x-python",
   "name": "python",
   "nbconvert_exporter": "python",
   "pygments_lexer": "ipython3",
   "version": "3.8.5"
  }
 },
 "nbformat": 4,
 "nbformat_minor": 2
}
